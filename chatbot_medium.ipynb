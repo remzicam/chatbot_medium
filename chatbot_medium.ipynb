{
  "cells": [
    {
      "cell_type": "markdown",
      "metadata": {
        "id": "view-in-github",
        "colab_type": "text"
      },
      "source": [
        "<a href=\"https://colab.research.google.com/github/remzicam/chatbot_medium/blob/main/chatbot_medium.ipynb\" target=\"_parent\"><img src=\"https://colab.research.google.com/assets/colab-badge.svg\" alt=\"Open In Colab\"/></a>"
      ]
    },
    {
      "cell_type": "code",
      "execution_count": null,
      "metadata": {
        "id": "pBI589vKF-1u"
      },
      "outputs": [],
      "source": [
        "!pip3 install chainlit pyngrok langchain optimum auto-gptq --extra-index-url https://huggingface.github.io/autogptq-index/whl/cu118/ -q"
      ]
    },
    {
      "cell_type": "code",
      "execution_count": null,
      "metadata": {
        "id": "btryTTKufjbZ"
      },
      "outputs": [],
      "source": [
        "!ngrok config add-authtoken <paste_your_token_here>"
      ]
    },
    {
      "cell_type": "code",
      "execution_count": null,
      "metadata": {
        "id": "ej_5SwS2CImE"
      },
      "outputs": [],
      "source": [
        "from pyngrok import ngrok\n",
        "print(ngrok.connect(8000).public_url)"
      ]
    },
    {
      "cell_type": "code",
      "execution_count": null,
      "metadata": {
        "id": "1M7UkEhTPW3v"
      },
      "outputs": [],
      "source": [
        "%%writefile app.py\n",
        "from transformers import AutoModelForCausalLM, AutoTokenizer, pipeline\n",
        "from langchain.llms import HuggingFacePipeline\n",
        "from langchain.prompts.prompt import PromptTemplate\n",
        "from langchain.chains import ConversationChain\n",
        "from langchain.memory import ConversationBufferWindowMemory\n",
        "import chainlit as cl\n",
        "\n",
        "model_name_or_path = \"TheBloke/zephyr-7B-beta-GPTQ\"\n",
        "tokenizer = AutoTokenizer.from_pretrained(model_name_or_path, use_fast=True)\n",
        "model = AutoModelForCausalLM.from_pretrained(model_name_or_path, device_map=\"auto\")\n",
        "\n",
        "pipe = pipeline(\n",
        "    task=\"text-generation\",\n",
        "    model=model,\n",
        "    tokenizer=tokenizer,\n",
        "    max_new_tokens=512\n",
        "    )\n",
        "\n",
        "llm=HuggingFacePipeline(pipeline=pipe)\n",
        "\n",
        "template = \"\"\"\n",
        "<|system|>\n",
        "You are a helpful assistant that provides information and engages in casual conversation.\n",
        "Respond naturally to user queries and provide useful information.\n",
        "Please, write a single reply only!\n",
        "</s>\n",
        "<|user|>\n",
        "Current conversation:\n",
        "{history}\n",
        "Question: {input}\n",
        "</s>\n",
        "<|assistant|>\n",
        "\"\"\"\n",
        "\n",
        "prompt = PromptTemplate(input_variables=[\"history\", \"input\"], template=template)\n",
        "memory=ConversationBufferWindowMemory(k=3)\n",
        "\n",
        "\n",
        "@cl.on_chat_start\n",
        "async def start():\n",
        "    llm_chain = ConversationChain(prompt=prompt, llm=llm, memory=memory)\n",
        "    cl.user_session.set(\"llm_chain\", llm_chain)\n",
        "\n",
        "\n",
        "@cl.on_message\n",
        "async def main(message:cl.message):\n",
        "    llm_chain = cl.user_session.get(\"llm_chain\")\n",
        "    cb = cl.AsyncLangchainCallbackHandler( )\n",
        "    cb.answer_reached = True\n",
        "    res = await cl.make_async(llm_chain)(message.content, callbacks=[cb])\n",
        "    await cl.Message(content=res['response']).send()\n"
      ]
    },
    {
      "cell_type": "code",
      "execution_count": null,
      "metadata": {
        "colab": {
          "background_save": true
        },
        "id": "ylcsODl_STmM"
      },
      "outputs": [],
      "source": [
        "!chainlit run app.py"
      ]
    }
  ],
  "metadata": {
    "accelerator": "GPU",
    "colab": {
      "provenance": [],
      "authorship_tag": "ABX9TyN6qttSB8lo+gL2yKc/87aN",
      "include_colab_link": true
    },
    "kernelspec": {
      "display_name": "Python 3",
      "name": "python3"
    },
    "language_info": {
      "name": "python"
    }
  },
  "nbformat": 4,
  "nbformat_minor": 0
}